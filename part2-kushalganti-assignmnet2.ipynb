{
 "cells": [
  {
   "cell_type": "code",
   "execution_count": 1,
   "metadata": {},
   "outputs": [],
   "source": [
    "import numpy as np \n",
    "import pandas as pd\n",
    "import math \n",
    "import csv\n",
    "from numpy import linalg as LA\n",
    "import matplotlib.pyplot as plt"
   ]
  },
  {
   "cell_type": "code",
   "execution_count": 2,
   "metadata": {},
   "outputs": [],
   "source": [
    "iterations = 40\n",
    "k = 20\n",
    "regularization_factor = 0.1 #𝜆\n",
    "learning_rate = 0.01 # 𝜂\n",
    "data_path =\"ratings.csv\""
   ]
  },
  {
   "cell_type": "code",
   "execution_count": 3,
   "metadata": {},
   "outputs": [
    {
     "name": "stdout",
     "output_type": "stream",
     "text": [
      "9723\n",
      "609\n"
     ]
    }
   ],
   "source": [
    "max_movie =0\n",
    "max_user =0\n",
    "with open('ratings.csv') as csv_file:\n",
    "    csv_reader = csv.reader(csv_file)\n",
    "    for row in csv_reader:\n",
    "        c = row\n",
    "        d = int(c[0])\n",
    "        e= int(c[1])\n",
    "        if (d>max_movie):\n",
    "            max_movie =d \n",
    "        if(e>max_user):\n",
    "            max_user = e\n",
    "print(max_movie)\n",
    "print(max_user)\n",
    "    "
   ]
  },
  {
   "cell_type": "code",
   "execution_count": 44,
   "metadata": {},
   "outputs": [],
   "source": [
    "\n",
    "def latent_factor_recommnder(data_path, regularization_factor, learning_rate, iterations, k):\n",
    "    cost_lfm = []\n",
    "    p = np.random.uniform(low=0, high= math.sqrt(5/k), size=(max_user+1,k))\n",
    "    q = np.random.uniform(low=0, high= math.sqrt(5/k), size=(max_movie+1,k))\n",
    "    for u in range(iterations):\n",
    "        print(\"iterations no : \"+str(u))\n",
    "        #print(p.shape)\n",
    "        #print(q.shape)\n",
    "        with open('ratings.csv') as csv_file:\n",
    "            csv_reader = csv.reader(csv_file)\n",
    "            \n",
    "            for row in csv_reader:\n",
    "                rrr = row\n",
    "            \n",
    "                movie_id = int(rrr[0])\n",
    "                #print(movie_id)\n",
    "                user_id = int(rrr[1])\n",
    "                rating = int(rrr[2])\n",
    "             \n",
    "                der_err = 2*(rating - np.dot(q[movie_id],np.transpose(p[user_id])))\n",
    "                q[movie_id] += (learning_rate*(der_err*p[user_id] - 2*(regularization_factor*q[movie_id])))\n",
    "                p[user_id] += (learning_rate*(der_err*q[movie_id] - 2*(regularization_factor*p[user_id])))\n",
    "                \n",
    "                #csv_file.close()\n",
    "                \n",
    "        Er=0        \n",
    "        with open('ratings.csv') as csv1_file:\n",
    "            csv_reader = csv.reader(csv1_file)\n",
    "            for row1 in csv_reader:\n",
    "                rrr1 = row1\n",
    "                \n",
    "                \n",
    "                movie_id1 = int(rrr1[0])\n",
    "                user_id1 = int(rrr1[1])\n",
    "                rating1 = int(rrr1[2])\n",
    "                \n",
    "                Er = Er+np.sum((rating1 - np.dot(q[movie_id1],np.transpose(p[user_id1])))**2)\n",
    "    \n",
    "        #print(p)\n",
    "        #print(q)\n",
    "        #print(Er)\n",
    "        Erro = Er + (regularization_factor*(np.sum((LA.norm(p,2,axis=1))**2) + np.sum((LA.norm(q,2,axis=1))**2)))\n",
    "                                        \n",
    "    \n",
    "        csv1_file.close()\n",
    "        print(Erro)\n",
    "        cost_lfm.append(Erro)\n",
    "    return cost_lfm\n",
    "        "
   ]
  },
  {
   "cell_type": "code",
   "execution_count": 47,
   "metadata": {
    "scrolled": true
   },
   "outputs": [
    {
     "name": "stdout",
     "output_type": "stream",
     "text": [
      "iterations no : 0\n",
      "180415.99393491552\n",
      "iterations no : 1\n",
      "94561.63818579946\n",
      "iterations no : 2\n",
      "88735.06037250873\n",
      "iterations no : 3\n",
      "85947.1263621893\n",
      "iterations no : 4\n",
      "83885.76069058145\n",
      "iterations no : 5\n",
      "81979.14689621396\n",
      "iterations no : 6\n",
      "80011.47150632797\n",
      "iterations no : 7\n",
      "77916.4573751728\n",
      "iterations no : 8\n",
      "75722.28976298535\n",
      "iterations no : 9\n",
      "73504.26908699166\n",
      "iterations no : 10\n",
      "71336.63214746385\n",
      "iterations no : 11\n",
      "69268.54310167709\n",
      "iterations no : 12\n",
      "67325.13947471604\n",
      "iterations no : 13\n",
      "65516.38222008252\n",
      "iterations no : 14\n",
      "63843.68494427737\n",
      "iterations no : 15\n",
      "62303.46497073979\n",
      "iterations no : 16\n",
      "60889.0957274304\n",
      "iterations no : 17\n",
      "59592.19296478911\n",
      "iterations no : 18\n",
      "58403.551154262175\n",
      "iterations no : 19\n",
      "57313.81137096672\n",
      "iterations no : 20\n",
      "56313.90129039378\n",
      "iterations no : 21\n",
      "55395.29429366124\n",
      "iterations no : 22\n",
      "54550.13788792598\n",
      "iterations no : 23\n",
      "53771.29566729696\n",
      "iterations no : 24\n",
      "53052.33667956964\n",
      "iterations no : 25\n",
      "52387.49569650017\n",
      "iterations no : 26\n",
      "51771.61953518293\n",
      "iterations no : 27\n",
      "51200.10861933492\n",
      "iterations no : 28\n",
      "50668.859031575616\n",
      "iterations no : 29\n",
      "50174.20783922596\n",
      "iterations no : 30\n",
      "49712.88298967485\n",
      "iterations no : 31\n",
      "49281.95820858032\n",
      "iterations no : 32\n",
      "48878.81285493084\n",
      "iterations no : 33\n",
      "48501.096438023174\n",
      "iterations no : 34\n",
      "48146.69738766741\n",
      "iterations no : 35\n",
      "47813.7156327545\n",
      "iterations no : 36\n",
      "47500.4385496426\n",
      "iterations no : 37\n",
      "47205.319870139414\n",
      "iterations no : 38\n",
      "46926.961177006284\n",
      "iterations no : 39\n",
      "46664.095655886435\n"
     ]
    }
   ],
   "source": [
    "lfm = latent_factor_recommnder(data_path,regularization_factor,learning_rate,iterations , k)"
   ]
  },
  {
   "cell_type": "code",
   "execution_count": 48,
   "metadata": {},
   "outputs": [
    {
     "data": {
      "image/png": "[encoded data removed]",
      "text/plain": [
       "<Figure size 432x288 with 1 Axes>"
      ]
     },
     "metadata": {
      "needs_background": "light"
     },
     "output_type": "display_data"
    }
   ],
   "source": [
    "epochs= ['1','2','3','4','5','6','7','8','9','10','11','12','13','14','15','16','17','18','19','20','21','22','23','24','25','26','27','28','28','29','30','31','32','33','34','35','36','37','38','39','40']\n",
    "plt.plot([i for i in range(1,41,1)],lfm)\n",
    "plt.title('Cost vs epoch for latent factor model')\n",
    "plt.ylabel('cost\\error')\n",
    "plt.xlabel('Epoch')\n",
    "\n",
    "plt.show()"
   ]
  },
  {
   "cell_type": "code",
   "execution_count": null,
   "metadata": {},
   "outputs": [],
   "source": []
  }
 ],
 "metadata": {
  "kernelspec": {
   "display_name": "Python 3",
   "language": "python",
   "name": "python3"
  },
  "language_info": {
   "codemirror_mode": {
    "name": "ipython",
    "version": 3
   },
   "file_extension": ".py",
   "mimetype": "text/x-python",
   "name": "python",
   "nbconvert_exporter": "python",
   "pygments_lexer": "ipython3",
   "version": "3.7.3"
  }
 },
 "nbformat": 4,
 "nbformat_minor": 2
}
