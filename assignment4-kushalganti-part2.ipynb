{
 "cells": [
  {
   "cell_type": "code",
   "execution_count": 1,
   "metadata": {},
   "outputs": [],
   "source": [
    "import numpy as np\n",
    "import pandas as pd\n",
    "import math\n",
    "import matplotlib.pyplot as plt"
   ]
  },
  {
   "cell_type": "code",
   "execution_count": 2,
   "metadata": {},
   "outputs": [],
   "source": [
    "dataset_path1 = \"words_stream.txt\"\n",
    "counts_path2 = \"counts.txt\"\n",
    "hash_path3 = \"hash_params.txt\""
   ]
  },
  {
   "cell_type": "code",
   "execution_count": 24,
   "metadata": {},
   "outputs": [],
   "source": [
    "#da1 = np.loadtxt(dataset_path1)\n",
    "\n",
    "da2 = np.loadtxt(counts_path2)\n",
    "#da2 = da2.astype(int)\n",
    "da3 = np.loadtxt(hash_path3,dtype=int)\n",
    "#da3 = da3.astype(int)"
   ]
  },
  {
   "cell_type": "code",
   "execution_count": 106,
   "metadata": {},
   "outputs": [
    {
     "data": {
      "text/plain": [
       "array([[     1,  23963],\n",
       "       [     2,   4073],\n",
       "       [     3, 142857],\n",
       "       ...,\n",
       "       [139037,      1],\n",
       "       [139038,      1],\n",
       "       [139039,      1]])"
      ]
     },
     "execution_count": 106,
     "metadata": {},
     "output_type": "execute_result"
    }
   ],
   "source": [
    "da2"
   ]
  },
  {
   "cell_type": "code",
   "execution_count": 4,
   "metadata": {},
   "outputs": [
    {
     "data": {
      "text/plain": [
       "array([[   3, 1561],\n",
       "       [  17,  277],\n",
       "       [  38,  394],\n",
       "       [  61,   13],\n",
       "       [  78,  246]])"
      ]
     },
     "execution_count": 4,
     "metadata": {},
     "output_type": "execute_result"
    }
   ],
   "source": [
    "da3"
   ]
  },
  {
   "cell_type": "code",
   "execution_count": 74,
   "metadata": {},
   "outputs": [
    {
     "data": {
      "text/plain": [
       "array([[1.00000e+00, 2.39630e+04],\n",
       "       [2.00000e+00, 4.07300e+03],\n",
       "       [3.00000e+00, 1.42857e+05],\n",
       "       ...,\n",
       "       [1.39037e+05, 1.00000e+00],\n",
       "       [1.39038e+05, 1.00000e+00],\n",
       "       [1.39039e+05, 1.00000e+00]])"
      ]
     },
     "execution_count": 74,
     "metadata": {},
     "output_type": "execute_result"
    }
   ],
   "source": [
    "da2"
   ]
  },
  {
   "cell_type": "code",
   "execution_count": 75,
   "metadata": {},
   "outputs": [
    {
     "data": {
      "text/plain": [
       "array([[   3., 1561.],\n",
       "       [  17.,  277.],\n",
       "       [  38.,  394.],\n",
       "       [  61.,   13.],\n",
       "       [  78.,  246.]])"
      ]
     },
     "execution_count": 75,
     "metadata": {},
     "output_type": "execute_result"
    }
   ],
   "source": [
    "da3"
   ]
  },
  {
   "cell_type": "code",
   "execution_count": 4,
   "metadata": {},
   "outputs": [],
   "source": [
    "p= 123457"
   ]
  },
  {
   "cell_type": "code",
   "execution_count": 5,
   "metadata": {},
   "outputs": [],
   "source": [
    "delta = math.exp(-5)"
   ]
  },
  {
   "cell_type": "code",
   "execution_count": 6,
   "metadata": {},
   "outputs": [],
   "source": [
    "epsilon = math.exp(1)* math.pow(10,-4)"
   ]
  },
  {
   "cell_type": "code",
   "execution_count": 7,
   "metadata": {},
   "outputs": [],
   "source": [
    "e = math.exp(1)"
   ]
  },
  {
   "cell_type": "code",
   "execution_count": 8,
   "metadata": {},
   "outputs": [],
   "source": [
    "import math\n",
    "\n",
    "buckets = math.ceil(e/epsilon)\n"
   ]
  },
  {
   "cell_type": "code",
   "execution_count": 98,
   "metadata": {},
   "outputs": [
    {
     "data": {
      "text/plain": [
       "10000"
      ]
     },
     "execution_count": 98,
     "metadata": {},
     "output_type": "execute_result"
    }
   ],
   "source": [
    "buckets"
   ]
  },
  {
   "cell_type": "code",
   "execution_count": 108,
   "metadata": {},
   "outputs": [
    {
     "data": {
      "text/plain": [
       "array([   2, 4073])"
      ]
     },
     "execution_count": 108,
     "metadata": {},
     "output_type": "execute_result"
    }
   ],
   "source": [
    "da2[1]"
   ]
  },
  {
   "cell_type": "code",
   "execution_count": 109,
   "metadata": {},
   "outputs": [
    {
     "data": {
      "text/plain": [
       "2"
      ]
     },
     "execution_count": 109,
     "metadata": {},
     "output_type": "execute_result"
    }
   ],
   "source": [
    "da2[1][0]"
   ]
  },
  {
   "cell_type": "code",
   "execution_count": 9,
   "metadata": {},
   "outputs": [],
   "source": [
    "def hash(a, b, p, buckets, x):\n",
    "    y = x%p\n",
    "    hash_val = (a*y+b)%p\n",
    "    ku = hash_val%buckets\n",
    "    return ku"
   ]
  },
  {
   "cell_type": "code",
   "execution_count": 122,
   "metadata": {},
   "outputs": [
    {
     "data": {
      "text/plain": [
       "array([[   3, 1561],\n",
       "       [  17,  277],\n",
       "       [  38,  394],\n",
       "       [  61,   13],\n",
       "       [  78,  246]])"
      ]
     },
     "execution_count": 122,
     "metadata": {},
     "output_type": "execute_result"
    }
   ],
   "source": [
    "da3\n",
    "    "
   ]
  },
  {
   "cell_type": "code",
   "execution_count": 10,
   "metadata": {},
   "outputs": [],
   "source": [
    "matrix = np.zeros((5,buckets-1))"
   ]
  },
  {
   "cell_type": "code",
   "execution_count": 100,
   "metadata": {},
   "outputs": [
    {
     "data": {
      "text/plain": [
       "(5, 9999)"
      ]
     },
     "execution_count": 100,
     "metadata": {},
     "output_type": "execute_result"
    }
   ],
   "source": [
    "matrix.shape"
   ]
  },
  {
   "cell_type": "code",
   "execution_count": 11,
   "metadata": {},
   "outputs": [],
   "source": [
    "f = open(dataset_path1 , \"r\")\n",
    "for s in f:\n",
    "    test = []\n",
    "    x = int(s)\n",
    "    for i  in da3:\n",
    "        a = i[0]\n",
    "        b = i[1]\n",
    "        test.append(hash(a, b, p, buckets, x))\n",
    "    for k in test:\n",
    "        s1 = test.index(k)\n",
    "        matrix[s1][k-1] += 1"
   ]
  },
  {
   "cell_type": "code",
   "execution_count": 48,
   "metadata": {},
   "outputs": [],
   "source": [
    "err_values = []\n",
    "real_values = []\n",
    "pred_values =[]\n",
    "#approximate_value = 0\n",
    "for x in da2:\n",
    "    approximate_value=0\n",
    "    #err =0\n",
    "    test1 = []\n",
    "    test2 = []\n",
    "    number = int(x[0])\n",
    "    real_count = int(x[1])\n",
    "    for i in da3:\n",
    "        a = i[0]\n",
    "        b = i[1]\n",
    "        test1.append(hash(a,b,p,buckets,number))\n",
    "    for i in test1:\n",
    "        inde = test1.index(i)\n",
    "        test2.append(matrix[inde][i-1])\n",
    "    approxmiate_value = min(test2)\n",
    "    \n",
    "    #print(err)\n",
    "    real_values.append(int(real_count))\n",
    "    pred_values.append(approxmiate_value)\n",
    "    "
   ]
  },
  {
   "cell_type": "code",
   "execution_count": 49,
   "metadata": {},
   "outputs": [],
   "source": [
    "error_val=[]\n",
    "for x in range(len(real_values)):\n",
    "    error_val.append((int(pred_values[x])-real_values[x])/real_values[x])"
   ]
  },
  {
   "cell_type": "code",
   "execution_count": 50,
   "metadata": {},
   "outputs": [
    {
     "data": {
      "text/plain": [
       "Text(0.5, 1.0, 'log on error_value ')"
      ]
     },
     "execution_count": 50,
     "metadata": {},
     "output_type": "execute_result"
    },
    {
     "data": {
      "image/png": "[encoded data removed]",
      "text/plain": [
       "<Figure size 432x288 with 1 Axes>"
      ]
     },
     "metadata": {
      "needs_background": "light"
     },
     "output_type": "display_data"
    }
   ],
   "source": [
    "\n",
    "import matplotlib.pyplot as plt\n",
    "plt.loglog(error_val, basex=2)\n",
    "plt.grid(True)\n",
    "plt.title('log on error_value ')"
   ]
  },
  {
   "cell_type": "code",
   "execution_count": 51,
   "metadata": {},
   "outputs": [
    {
     "data": {
      "text/plain": [
       "Text(0.5, 1.0, 'log on ground truth value f[i] ')"
      ]
     },
     "execution_count": 51,
     "metadata": {},
     "output_type": "execute_result"
    },
    {
     "data": {
      "image/png": "[encoded data removed]",
      "text/plain": [
       "<Figure size 432x288 with 1 Axes>"
      ]
     },
     "metadata": {
      "needs_background": "light"
     },
     "output_type": "display_data"
    }
   ],
   "source": [
    "plt.loglog( real_values, basex=2)\n",
    "plt.grid(True)\n",
    "plt.title('log on ground truth value f[i] ')"
   ]
  },
  {
   "cell_type": "code",
   "execution_count": 52,
   "metadata": {},
   "outputs": [
    {
     "data": {
      "text/plain": [
       "Text(0.5, 1.0, 'log on predicted vlue ')"
      ]
     },
     "execution_count": 52,
     "metadata": {},
     "output_type": "execute_result"
    },
    {
     "data": {
      "image/png": "[encoded data removed]",
      "text/plain": [
       "<Figure size 432x288 with 1 Axes>"
      ]
     },
     "metadata": {
      "needs_background": "light"
     },
     "output_type": "display_data"
    }
   ],
   "source": [
    "plt.loglog( pred_values, basex=2)\n",
    "plt.grid(True)\n",
    "plt.title('log on predicted vlue ')"
   ]
  },
  {
   "cell_type": "code",
   "execution_count": null,
   "metadata": {},
   "outputs": [],
   "source": []
  }
 ],
 "metadata": {
  "kernelspec": {
   "display_name": "Python 3",
   "language": "python",
   "name": "python3"
  },
  "language_info": {
   "codemirror_mode": {
    "name": "ipython",
    "version": 3
   },
   "file_extension": ".py",
   "mimetype": "text/x-python",
   "name": "python",
   "nbconvert_exporter": "python",
   "pygments_lexer": "ipython3",
   "version": "3.7.3"
  }
 },
 "nbformat": 4,
 "nbformat_minor": 2
}
